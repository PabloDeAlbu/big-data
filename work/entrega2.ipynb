{
 "cells": [
  {
   "cell_type": "markdown",
   "metadata": {},
   "source": [
    "# Práctica 2 - Ejercicio 11\n",
    "\n",
    "El dataset website tiene información sobre el tiempo de permanencia de sus usuarios en cada una de las páginas del sitio. El formato de los datos del dataset es:\n",
    "\n",
    "`<id_user, id_page, time>`\n",
    "\n",
    "Modele una solución MapReduce, sugiriendo la utilización de funciones combiners en los casos que considere necesario, que permita obtener:\n",
    "* La página más visitada (la página en la que más tiempo permaneció) para cada\n",
    "usuario\n",
    "* El usuario que más páginas distintas visitó\n",
    "* La página más visitada (en cuanto a cantidad de visitas, sin importar el tiempo de permanencia) por todos los usuarios.\n",
    "\n",
    "Indique como queda el DAG del proceso completo (las tres consultas)\n"
   ]
  },
  {
   "cell_type": "code",
   "execution_count": 2,
   "metadata": {},
   "outputs": [],
   "source": [
    "#!/usr/bin/env python3\n",
    "# -*- coding: utf-8 -*-\n",
    "\"\"\"\n",
    "Created on Wed Oct 21 13:25:40 2020\n",
    "\n",
    "@author: pablo\n",
    "\"\"\"\n",
    "\n",
    "import os\n",
    "\n",
    "from MRE import Job\n",
    "\n",
    "inputDir = \"datasets/website/\"\n",
    "outputDir = \"output/website\""
   ]
  },
  {
   "cell_type": "markdown",
   "metadata": {},
   "source": [
    "> A medida que se ejecuta el script, se crea una carpeta para cada Job donde se almacenan los resultados parciales y totales.\n",
    "### a. La página más visitada (la página en la que más tiempo permaneció) para cada usuario"
   ]
  },
  {
   "cell_type": "markdown",
   "metadata": {},
   "source": [
    "El JobA1 calcula para cada usuario, el tiempo total de permanencia para cada una de las páginas que visitó. Para el combiner utilizo la misma función reduce"
   ]
  },
  {
   "cell_type": "code",
   "execution_count": 3,
   "metadata": {},
   "outputs": [],
   "source": [
    "# <id_user, id_page, time>\n",
    "def fmapA1(key, value, context):\n",
    "    values = value.split()\n",
    "    context.write((key, values[0]), values[1])\n",
    "\n",
    "def fredA1(key, values, context):\n",
    "    total = 0\n",
    "    for v in values:\n",
    "        total += int(v)\n",
    "    context.write(key, total)\n",
    "\n",
    "#Creo directorios a/1/ en directorio de output para los resultados del JobA1\n",
    "os.makedirs(outputDir + '/a/1', exist_ok=True)\n",
    "\n",
    "jobA1 = Job(inputDir, outputDir + '/a/1', fmapA1, fredA1)\n",
    "jobA1.setCombiner(fredA1)\n",
    "success = jobA1.waitForCompletion()"
   ]
  },
  {
   "cell_type": "markdown",
   "metadata": {},
   "source": [
    "El JobA2 recibe para cada usuario, las páginas que visito con el tiempo total de permanencia en cada una y retorna para cada usuario la página en la que más tiempo permaneció"
   ]
  },
  {
   "cell_type": "code",
   "execution_count": 4,
   "metadata": {},
   "outputs": [
    {
     "name": "stdout",
     "output_type": "stream",
     "text": [
      "Ver resultados en 'output/website/a/2/output.txt'\n"
     ]
    }
   ],
   "source": [
    "# <id_user, id_page, time>\n",
    "def fmapA2(key, value, context):\n",
    "    values = value.split()\n",
    "    context.write(key, values)\n",
    "\n",
    "# intenté ordernar la entrada del reduce fredA2 por el tiempo de permanencia, para evitar iterar sobre todas las páginas visitadas por el usuario .\n",
    "# Como el orden se establece por la clave intermedia, no me fue posible lograrlo, al menos en esta solución.\n",
    "def fredA2(key, values, context):\n",
    "    max= (0,0)\n",
    "    for v in values:\n",
    "        if (int(max[1]) < int(v[1]) ):\n",
    "            max = v\n",
    "    context.write(key, max)\n",
    "\n",
    "os.makedirs(outputDir + '/a/2', exist_ok=True)\n",
    "jobA2 = Job(outputDir + '/a/1', outputDir + '/a/2', fmapA2, fredA2)\n",
    "success = jobA2.waitForCompletion()\n",
    "\n",
    "print(f\"Ver resultados en '{outputDir}/a/2/output.txt'\")"
   ]
  },
  {
   "cell_type": "markdown",
   "metadata": {},
   "source": [
    "![img](https://docs.google.com/drawings/d/e/2PACX-1vTR2vYsUGk_jLatYMwmCf4H6cxKGDSxnIgCLwA9OwWsPjr1-UmXU5c79A6cGZKhR646CwV_D22x26WV/pub?w=525&h=166)"
   ]
  },
  {
   "cell_type": "markdown",
   "metadata": {},
   "source": [
    "### b. El usuario que más páginas distintas visitó"
   ]
  },
  {
   "cell_type": "markdown",
   "metadata": {},
   "source": [
    "JobB1 calcula la canitdad de paginas visitadas por usuario. Para la función combiner utilizo la misma función usada en el reduce"
   ]
  },
  {
   "cell_type": "code",
   "execution_count": 5,
   "metadata": {},
   "outputs": [],
   "source": [
    "# <id_user, id_page, time>\n",
    "def fmapB1(key, value, context):\n",
    "    values = value.split()\n",
    "    context.write((key,values[0]), 1)\n",
    "\n",
    "def fredB1(key, values, context):\n",
    "    total = 0\n",
    "    for v in values:\n",
    "        total += v\n",
    "    context.write(key,total)\n",
    "\n",
    "os.makedirs(outputDir + '/b/1', exist_ok=True)\n",
    "jobB1 = Job(inputDir, outputDir + '/b/1', fmapB1, fredB1)\n",
    "jobB1.setCombiner(fredB1)\n",
    "success = jobB1.waitForCompletion()"
   ]
  },
  {
   "cell_type": "markdown",
   "metadata": {},
   "source": [
    "JobB2 calcula la cantidad de páginas distintas visitados por usuario"
   ]
  },
  {
   "cell_type": "code",
   "execution_count": 6,
   "metadata": {},
   "outputs": [],
   "source": [
    "def fmapB2(key, value, context):\n",
    "    context.write(key, 1)\n",
    "\n",
    "def fredB2(key, values, context):\n",
    "    total = 0\n",
    "    for v in values:\n",
    "        total += v\n",
    "    context.write(key,total)\n",
    "\n",
    "os.makedirs(outputDir + '/b/2', exist_ok=True)\n",
    "jobB2 = Job(outputDir + '/b/1', outputDir + '/b/2', fmapB2, fredB2)\n",
    "jobB2.setCombiner(fredB2)\n",
    "success = jobB2.waitForCompletion()"
   ]
  },
  {
   "cell_type": "markdown",
   "metadata": {},
   "source": [
    "JobB3 obtiene el usuario con mas páginas distintas visitadas"
   ]
  },
  {
   "cell_type": "code",
   "execution_count": 7,
   "metadata": {},
   "outputs": [
    {
     "name": "stdout",
     "output_type": "stream",
     "text": [
      "El usuario que más páginas distintas visitó es 9458 con 6 páginas visitadas\n"
     ]
    }
   ],
   "source": [
    "def fmapB3(key, value, context):\n",
    "    context.write(1, (key,value))\n",
    "\n",
    "def fredB3(key, values, context):\n",
    "    max = (0,0)\n",
    "    for v in values:\n",
    "        if int(max[1]) < int(v[1]):\n",
    "            max = v\n",
    "    print(f\"El usuario que más páginas distintas visitó es {max[0]} con {max[1]} páginas visitadas\")\n",
    "    context.write(max[0],max[1])\n",
    "\n",
    "os.makedirs(outputDir + '/b/3', exist_ok=True)\n",
    "jobB3 = Job(outputDir + '/b/2', outputDir + '/b/3', fmapB3, fredB3)\n",
    "success = jobB3.waitForCompletion()"
   ]
  },
  {
   "cell_type": "markdown",
   "metadata": {},
   "source": [
    "![b](https://docs.google.com/drawings/d/e/2PACX-1vQrGij1qYqZ70QtamfFUWa_QhQXt5aOE-U3Q--ZIjDeePrBsyNrU3DiFocYwRMKgmyuS2rlhpUctKjN/pub?w=662&h=172)"
   ]
  },
  {
   "cell_type": "markdown",
   "metadata": {},
   "source": [
    "### c. La página más visitada (en cuanto a cantidad de visitas, sin importar el tiempo de permanencia) por todos los usuarios."
   ]
  },
  {
   "cell_type": "markdown",
   "metadata": {},
   "source": [
    "JobC1 calcula cantidad de visitas por página"
   ]
  },
  {
   "cell_type": "code",
   "execution_count": 6,
   "metadata": {},
   "outputs": [],
   "source": [
    "# <id_user, time, id_page>\n",
    "def fmapC1(key, value, context):\n",
    "    values = value.split()\n",
    "    context.write(values[1], 1)\n",
    "\n",
    "def fredC1(key, values, context):\n",
    "    total = 0\n",
    "    for v in values:\n",
    "        total += v\n",
    "    context.write(key,total)\n",
    "\n",
    "os.makedirs(outputDir + '/c/1', exist_ok=True)\n",
    "jobC1 = Job(inputDir, outputDir + '/c/1', fmapC1, fredC1)\n",
    "jobC1.setCombiner(fredC1)\n",
    "success = jobC1.waitForCompletion()"
   ]
  },
  {
   "cell_type": "markdown",
   "metadata": {},
   "source": [
    "JobC2 obtiene la página mas visitada"
   ]
  },
  {
   "cell_type": "code",
   "execution_count": 9,
   "metadata": {},
   "outputs": [
    {
     "name": "stdout",
     "output_type": "stream",
     "text": [
      "La página más visitada es 29 con 81 visitas\n"
     ]
    }
   ],
   "source": [
    "# <id_page, total>\n",
    "def fmapC2(key, value, context):\n",
    "    value = value.split()\n",
    "    context.write(1, (key, value[0]))\n",
    "\n",
    "def fredC2(key, values, context):\n",
    "    max = (0,0)\n",
    "    for v in values:\n",
    "        if (int(max[1]) < int(v[1]) ):\n",
    "            max = v\n",
    "    print(f\"La página más visitada es {max[0]} con {max[1]} visitas\")\n",
    "    context.write(max[0],max[1])\n",
    "\n",
    "os.makedirs(outputDir + '/c/2', exist_ok=True)\n",
    "jobC2 = Job(outputDir + '/c/1', outputDir + '/c/2', fmapC2, fredC2)\n",
    "success = jobC2.waitForCompletion()"
   ]
  },
  {
   "cell_type": "markdown",
   "metadata": {},
   "source": [
    "![JobC](https://docs.google.com/drawings/d/e/2PACX-1vTqOtUNtx9HDNgXOBvSGZ2J2c9KJdB8E-B4SWQyl48iwI2C95krGnM5a2WFLECRUOzLbo4KQLk_TS8v/pub?w=521&h=171)"
   ]
  }
 ],
 "metadata": {
  "kernelspec": {
   "display_name": "Python 3",
   "language": "python",
   "name": "python3"
  },
  "language_info": {
   "codemirror_mode": {
    "name": "ipython",
    "version": 3
   },
   "file_extension": ".py",
   "mimetype": "text/x-python",
   "name": "python",
   "nbconvert_exporter": "python",
   "pygments_lexer": "ipython3",
   "version": "3.8.6"
  }
 },
 "nbformat": 4,
 "nbformat_minor": 4
}
