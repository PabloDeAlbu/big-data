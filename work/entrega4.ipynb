{
 "cells": [
  {
   "cell_type": "markdown",
   "metadata": {},
   "source": [
    "# Práctica 3 - Ejercicio 7\n",
    "\n",
    "Dado el dataset Genealogía el cual está formado por: \n",
    "\n",
    "`<nombre_individuo, dni_individuo, dni_mamá>`\n",
    "\n",
    "realice distintas funciones que:\n",
    "\n",
    "1. Dado los dni de dos individuos indicar si son primos (dos individuos son primos si tienen la misma abuela)\n",
    "2. Dado los dni de dos individuos i 1 y i 2 indicar si i 1 es ancestro de i 2 .\n",
    "3. El nombre de la “abuela” que tiene más descendientes \n",
    "4. Los nombres de los hermanos de la familia más numerosa (la cantidad de integrantes de una familia se calcula como la cantidad de hermanos más la mamá). Podría existir más de una familia más numerosa, en cuyo caso se deben imprimir todos los nombres de los hermanos integrantes de cada familia.\n"
   ]
  },
  {
   "cell_type": "code",
   "execution_count": 1,
   "metadata": {},
   "outputs": [],
   "source": [
    "from pyspark import SparkContext\n",
    "from pyspark.sql import SQLContext, Row\n",
    "from pyspark.sql.functions import col\n",
    "import time\n",
    "\n",
    "sc = SparkContext(\"local\", \"My program\")\n",
    "sqlContext = SQLContext(sc)"
   ]
  },
  {
   "cell_type": "code",
   "execution_count": 2,
   "metadata": {},
   "outputs": [],
   "source": [
    "genealogia = sc.textFile(\"datasets/genealogia.txt\")\n",
    "genealogia = genealogia.map(lambda t : t.split(\"\\t\"))\n",
    "\n",
    "genealogia = genealogia.map(lambda t: \n",
    "                               Row(\n",
    "                                   nombre_individuo = str(t[0]),\n",
    "                                   dni_individuo = int(t[1]),\n",
    "                                   dni_mama = int(t[2]) if t[2] != 'None' else None \n",
    "                               )\n",
    "                           )\n",
    "\n",
    "genealogiaDF = sqlContext.createDataFrame(genealogia)\n",
    "genealogiaDF.registerTempTable(\"Genealogia\")"
   ]
  },
  {
   "cell_type": "markdown",
   "metadata": {},
   "source": [
    "### a) Dado los dni de dos individuos indicar si son primos (dos individuos son primos si tienen la misma abuela)."
   ]
  },
  {
   "cell_type": "code",
   "execution_count": 3,
   "metadata": {},
   "outputs": [
    {
     "name": "stdout",
     "output_type": "stream",
     "text": [
      "646 es primo de 223: True\n"
     ]
    }
   ],
   "source": [
    "dni1 = 646\n",
    "dni2 = 223\n",
    "\n",
    "def getAbuela(dni):\n",
    "    query = f\"\"\"\n",
    "    SELECT g.nombre_individuo, g.dni_individuo, abuela.nombre_individuo as nombre_abuela, abuela.dni_individuo as dni_abuela\n",
    "    FROM Genealogia g\n",
    "    INNER JOIN Genealogia madre ON g.dni_mama = madre.dni_individuo\n",
    "    INNER JOIN Genealogia abuela ON madre.dni_mama = abuela.dni_individuo\n",
    "    WHERE g.dni_individuo = '{ dni }';\"\"\"\n",
    "    result = sqlContext.sql(query)\n",
    "    return(result.select('dni_abuela').first()[0])\n",
    "\n",
    "son_primos = getAbuela(dni1) == getAbuela(dni2)\n",
    "print(f\"{dni1} es primo de {dni2}: \" + str(son_primos))"
   ]
  },
  {
   "cell_type": "markdown",
   "metadata": {},
   "source": [
    "### b) Dado los dni de dos individuos i1 y i2 indicar si i1 es ancestro de i2."
   ]
  },
  {
   "cell_type": "code",
   "execution_count": 4,
   "metadata": {},
   "outputs": [
    {
     "name": "stdout",
     "output_type": "stream",
     "text": [
      "2184 es ancestro de 646: True\n"
     ]
    }
   ],
   "source": [
    "query = f\"\"\"\n",
    "SELECT g.nombre_individuo, g.dni_individuo, abuela.nombre_individuo as nombre_abuela, abuela.dni_individuo as dni_abuela\n",
    "FROM Genealogia g\n",
    "INNER JOIN Genealogia madre ON g.dni_mama = madre.dni_individuo\n",
    "INNER JOIN Genealogia abuela ON madre.dni_mama = abuela.dni_individuo\"\"\"\n",
    "\n",
    "dni1 = 2184\n",
    "dni2 = 646\n",
    "\n",
    "def getMadre(id):\n",
    "    query = f\"\"\"\n",
    "    SELECT g.dni_mama\n",
    "    FROM Genealogia g\n",
    "    WHERE g.dni_individuo = '{ id }';\"\"\"\n",
    "    result1 = sqlContext.sql(query)\n",
    "    return result1.first()[0]\n",
    "\n",
    "\n",
    "def getAncestros(id):\n",
    "    ancestros = []\n",
    "    madre = id\n",
    "    while madre is not None:\n",
    "        madre = getMadre(madre)\n",
    "        if madre is not None:\n",
    "            ancestros.append(madre)\n",
    "    return ancestros\n",
    "\n",
    "\n",
    "ancestros = getAncestros(dni2)\n",
    "print(f\"{dni1} es ancestro de {dni2}: \" + str(dni1 in ancestros))"
   ]
  },
  {
   "cell_type": "markdown",
   "metadata": {},
   "source": [
    "### c) El nombre de la “abuela” que tiene más descendientes"
   ]
  },
  {
   "cell_type": "code",
   "execution_count": 23,
   "metadata": {},
   "outputs": [
    {
     "name": "stdout",
     "output_type": "stream",
     "text": [
      "La abuela que tiene mas descendientes es Gavgaial con 373\n"
     ]
    }
   ],
   "source": [
    "def getAbuelas():\n",
    "    query = f\"\"\"\n",
    "    SELECT g.dni_individuo as dni_0, g.nombre_individuo as nombre\n",
    "    FROM Genealogia g\n",
    "    WHERE g.dni_mama is null\"\"\"\n",
    "    result = sqlContext.sql(query)\n",
    "    return result\n",
    "\n",
    "def getHijos(tmp, i):\n",
    "    tmp.registerTempTable(\"tmp\")\n",
    "    query = f\"\"\"\n",
    "    SELECT tmp.*, g.dni_individuo as dni_{i + 1}\n",
    "    FROM tmp\n",
    "    LEFT JOIN Genealogia g ON g.dni_mama = tmp.dni_{i}\"\"\"\n",
    "    result = sqlContext.sql(query)\n",
    "    return result\n",
    "\n",
    "a = getAbuelas()\n",
    "\n",
    "for i in range(14):\n",
    "    a = getHijos(a, i)\n",
    "\n",
    "abuela = a.groupBy(\"dni_0\",\"nombre\").count().orderBy(\"count\", ascending=False).first()\n",
    "\n",
    "print(\"La abuela que tiene mas descendientes es \" + abuela[1] + \" con \" + str(abuela[2]))\n"
   ]
  },
  {
   "cell_type": "markdown",
   "metadata": {},
   "source": [
    "### d) Los nombres de los hermanos de la familia más numerosa (la cantidad de integrantes de una familia se calcula como la cantidad de hermanos más la mamá). \n",
    "Podría existir más de una familia más numerosa, en cuyo caso se deben imprimir todos los nombres de los hermanos integrantes de cada familia"
   ]
  },
  {
   "cell_type": "code",
   "execution_count": 8,
   "metadata": {},
   "outputs": [
    {
     "name": "stdout",
     "output_type": "stream",
     "text": [
      "+----------------+--------+\n",
      "|nombre_individuo|dni_mama|\n",
      "+----------------+--------+\n",
      "|        Darpfeqd|     474|\n",
      "|         Sqvbmee|     474|\n",
      "|           Dybre|     474|\n",
      "|          Okwyus|    2529|\n",
      "|        Zpuydcfi|    2529|\n",
      "|         Wfqnfxt|    2529|\n",
      "|          Glyots|    4590|\n",
      "|           Hnflm|    4590|\n",
      "|           Zzkoy|    4590|\n",
      "|           Pbsdw|     418|\n",
      "|         Uyufhmp|     418|\n",
      "|        Pbboyvlb|     418|\n",
      "|          Kzvxtq|     541|\n",
      "|          Pjqcvc|     541|\n",
      "|         Czvqfzh|     541|\n",
      "|        Ashuevwd|     222|\n",
      "|        Iespugow|     222|\n",
      "|          Ovldft|     222|\n",
      "|        Yjrsixqd|    1371|\n",
      "|           Lbhox|    1371|\n",
      "+----------------+--------+\n",
      "only showing top 20 rows\n",
      "\n",
      "None\n"
     ]
    }
   ],
   "source": [
    "def getMadres():\n",
    "    query = f\"\"\"\n",
    "    SELECT g.dni_mama, COUNT(*) as count\n",
    "    FROM Genealogia g\n",
    "    WHERE g.dni_mama is not null\n",
    "    GROUP BY g.dni_mama \n",
    "    ORDER BY count DESC\"\"\"\n",
    "    result = sqlContext.sql(query)\n",
    "    return result\n",
    "\n",
    "madres = getMadres()\n",
    "max = madres.first()[1]\n",
    "madres = madres.filter(col(\"count\") == max)\n",
    "\n",
    "nombres = genealogiaDF.join(madres, madres.dni_mama == genealogiaDF.dni_mama).select(\"nombre_individuo\", \"g.dni_mama\")\n",
    "print(nombres.show())"
   ]
  }
 ],
 "metadata": {
  "kernelspec": {
   "display_name": "Python 3",
   "language": "python",
   "name": "python3"
  },
  "language_info": {
   "codemirror_mode": {
    "name": "ipython",
    "version": 3
   },
   "file_extension": ".py",
   "mimetype": "text/x-python",
   "name": "python",
   "nbconvert_exporter": "python",
   "pygments_lexer": "ipython3",
   "version": "3.8.6"
  }
 },
 "nbformat": 4,
 "nbformat_minor": 4
}
