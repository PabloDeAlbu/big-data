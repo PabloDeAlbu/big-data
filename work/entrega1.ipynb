{
 "cells": [
  {
   "cell_type": "markdown",
   "metadata": {},
   "source": [
    "# Práctica 1 - Ejercicio 8\n",
    "\n",
    "El dataset Inversionistas posee los nombres, dni, fecha de nacimiento (día, mes y año como campos separados) e importe invertido por diferentes personas en la apertura de un nuevo negocio en la ciudad. Se desea saber:\n",
    "\n",
    "1. El nombre del inversionista más joven\n",
    "2. El total del importe invertido por todos los inversionistas\n",
    "3. El promedio de edad\n",
    "\n",
    "Implemente una solución en MapReduce.\n",
    "Responda ¿Se puede resolver los tres problemas en un único job?"
   ]
  },
  {
   "cell_type": "code",
   "execution_count": 1,
   "metadata": {},
   "outputs": [
    {
     "name": "stdout",
     "output_type": "stream",
     "text": [
      "El nombre del inversionista más joven: Zuhccg con  18 años (6885 días)\n",
      "El total del importe invertido por todos los inversionistas: 44464100334\n",
      "El promedio de edad: 39.526955543050086\n"
     ]
    }
   ],
   "source": [
    "#!/usr/bin/env python3\n",
    "# -*- coding: utf-8 -*-\n",
    "\"\"\"\n",
    "Created on Thu Oct  8 16:20:09 2020\n",
    "\n",
    "@author: pablo\n",
    "\"\"\"\n",
    "\n",
    "import os\n",
    "\n",
    "from MRE import Job\n",
    "from datetime import date\n",
    "\n",
    "inputDir = \"datasets/Inversionistas/\"\n",
    "outputDir = \"output/\"\n",
    "\n",
    "os.makedirs(outputDir, exist_ok=True)\n",
    "\n",
    "# El nombre del inversionista más joven\n",
    "# El total del importe invertido por todos los inversionistas\n",
    "# El promedio de edad\n",
    "def fmap(key, value, context):\n",
    "    v = value.split()\n",
    "    context.write(1, (v[0],v[1],v[2],v[3],v[4]))\n",
    "        \n",
    "def fred(key, values, context):\n",
    "    min=99999\n",
    "    total=0\n",
    "    yearToday = date.today()\n",
    "    yearTotal = 0\n",
    "    n = 0\n",
    "    for v in values:\n",
    "        total += int(v[4])\n",
    "        n += 1\n",
    "        deltaDays = (yearToday - date(int(v[3]),int(v[2]),int(v[1]))).days\n",
    "        year = deltaDays // 365\n",
    "        yearTotal += year \n",
    "        if min > deltaDays:\n",
    "            min = deltaDays\n",
    "            nombre = v[0]\n",
    "    output = f\"El nombre del inversionista más joven: {nombre} con  {str(min // 365)} años ({min} días)\\nEl total del importe invertido por todos los inversionistas: {str(total)}\\nEl promedio de edad: {str(yearTotal / n)}\"\n",
    "    print(output)\n",
    "    context.write(key, output)\n",
    "\n",
    "job = Job(inputDir, outputDir, fmap, fred)\n",
    "success = job.waitForCompletion()\n",
    "\n",
    "f = open(outputDir + \"/output.txt\", \"r\")\n",
    "f.close()"
   ]
  }
 ],
 "metadata": {
  "kernelspec": {
   "display_name": "Python 3",
   "language": "python",
   "name": "python3"
  },
  "language_info": {
   "codemirror_mode": {
    "name": "ipython",
    "version": 3
   },
   "file_extension": ".py",
   "mimetype": "text/x-python",
   "name": "python",
   "nbconvert_exporter": "python",
   "pygments_lexer": "ipython3",
   "version": "3.8.6"
  }
 },
 "nbformat": 4,
 "nbformat_minor": 4
}
