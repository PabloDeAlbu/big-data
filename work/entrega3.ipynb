{
 "cells": [
  {
   "cell_type": "markdown",
   "metadata": {},
   "source": [
    "# Práctica 3 - Ejercicio 7\n",
    "\n",
    "Utilizando el dataset Banco escriba un script que permita determinar si las siguientes afirmaciones son verdaderas\n",
    "\n",
    "1. El banco tiene más clientes europeos que americanos\n",
    "2. El promedio de edad de los clientes americanos es menor que el de los europeos\n",
    "3. Los americanos deben más plata que los europeos (un cliente debe plata si la suma de montos de todas sus cajas de ahorro es negativa)d) Los clientes americanos suelen sacar, en promedio, préstamos con mayor cantidad de cuotas que los europeos"
   ]
  },
  {
   "cell_type": "code",
   "execution_count": 1,
   "metadata": {},
   "outputs": [],
   "source": [
    "from pyspark import SparkContext\n",
    "sc = SparkContext(\"local\", \"MyProgram\")"
   ]
  },
  {
   "cell_type": "code",
   "execution_count": 2,
   "metadata": {},
   "outputs": [],
   "source": [
    "clientes = sc.textFile(\"datasets/Banco/Clientes.txt\")\n",
    "clientes = clientes.map(lambda line: line.split(\"\\t\"))"
   ]
  },
  {
   "cell_type": "markdown",
   "metadata": {},
   "source": [
    "### a) El banco tiene más clientes europeos que americanos"
   ]
  },
  {
   "cell_type": "code",
   "execution_count": 4,
   "metadata": {},
   "outputs": [
    {
     "name": "stdout",
     "output_type": "stream",
     "text": [
      "Total de clientes: 27087\n",
      "Cantidad de clientes americanos: 22662\n",
      "Cantidad de clientes europeos: 4425\n",
      "El banco tiene más clientes europeos que americanos: False\n"
     ]
    }
   ],
   "source": [
    "paises = clientes.map(lambda t: t[5]).distinct()\n",
    "\n",
    "total = clientes.count()\n",
    "americanos = clientes.filter(lambda t: t[5] in ['BRA', 'ARG', 'VEN', 'COL', 'BOL', 'ECU', 'URU', 'PAR', 'CHI', 'PER'])\n",
    "total_americanos = americanos.count()\n",
    "europeos = clientes.filter(lambda t: t[5] in ['ITA', 'ESP'])\n",
    "total_europeos = total - total_americanos\n",
    "\n",
    "print(\"Total de clientes: \" + str(total))\n",
    "print(\"Cantidad de clientes americanos: \"+ str(total_americanos)) \n",
    "print(\"Cantidad de clientes europeos: \"+ str(total_europeos)) \n",
    "\n",
    "print(\"El banco tiene más clientes europeos que americanos: \" + str(total_europeos > total_americanos))"
   ]
  },
  {
   "cell_type": "markdown",
   "metadata": {},
   "source": [
    "### b) El promedio de edad de los clientes americanos es menor que el de los europeos"
   ]
  },
  {
   "cell_type": "code",
   "execution_count": 10,
   "metadata": {},
   "outputs": [
    {
     "name": "stdout",
     "output_type": "stream",
     "text": [
      "Promedio de edad de los clientes europeos: 47.41717062334077\n",
      "Promedio de edad de los clientes americanos: 46.59238163019565\n",
      "El promedio de edad de los clientes americanos es menor que el de los europeos: True\n"
     ]
    }
   ],
   "source": [
    "from datetime import datetime\n",
    "\n",
    "a = americanos.map(lambda t: (datetime.now() - datetime.strptime(t[4], '%Y-%m-%d')).days // 365)\n",
    "\n",
    "e = europeos.map(lambda t: (datetime.now() - datetime.strptime(t[4], '%Y-%m-%d')).days // 365)\n",
    "\n",
    "a = a.reduce(lambda t1, t2: (t1 + t2)/2)\n",
    "e = e.reduce(lambda t1, t2: (t1 + t2)/2)\n",
    "\n",
    "print(\"Promedio de edad de los clientes europeos: \"+ str(e))\n",
    "print(\"Promedio de edad de los clientes americanos: \"+ str(a)) \n",
    "\n",
    "print(\"El promedio de edad de los clientes americanos es menor que el de los europeos: \" + str(a < e))"
   ]
  },
  {
   "cell_type": "markdown",
   "metadata": {},
   "source": [
    "### c) Los americanos deben más plata que los europeos (un cliente debe plata si la suma de montos de todas sus cajas de ahorro es negativa)"
   ]
  },
  {
   "cell_type": "code",
   "execution_count": 6,
   "metadata": {},
   "outputs": [
    {
     "name": "stdout",
     "output_type": "stream",
     "text": [
      "Los americanos deben más plata que los europeos: True\n"
     ]
    }
   ],
   "source": [
    "# <id_caja>, <id_cliente>, <monto>\n",
    "cajas = sc.textFile(\"datasets/Banco/CajasDeAhorro.txt\")\n",
    "cajas = cajas.map(lambda line: line.split(\"\\t\"))\n",
    "c = cajas.map(lambda t: (t[1], t[2]))\n",
    "\n",
    "# <id_cliente>, <monto>\n",
    "c = c.reduceByKey(lambda t1, t2: (float(t1) + float(t2)))\n",
    "\n",
    "#def func(t1,t2):\n",
    "#americanos_k = americanos.map(lambda t1: (t1[0],(t1[1:])))\n",
    "\n",
    "montos_americanos = americanos.join(c)\n",
    "montos_americanos = montos_americanos.map(lambda t: (t[1][1]))\n",
    "\n",
    "montos_europeos = europeos.join(c)\n",
    "montos_europeos = montos_europeos.map(lambda t: (t[1][1]) )\n",
    "\n",
    "montos_americanos = montos_americanos.reduce(lambda t1, t2: (float(t1) + float(t2)))\n",
    "montos_europeos = montos_europeos.reduce(lambda t1, t2: (float(t1) + float(t2))) \n",
    "\n",
    "print(\"Los americanos deben más plata que los europeos: \" + str(montos_americanos < montos_europeos))"
   ]
  },
  {
   "cell_type": "markdown",
   "metadata": {},
   "source": [
    "### d) Los clientes americanos suelen sacar, en promedio, préstamos con mayor cantidad de cuotas que los europeos"
   ]
  },
  {
   "cell_type": "code",
   "execution_count": 99,
   "metadata": {},
   "outputs": [
    {
     "name": "stdout",
     "output_type": "stream",
     "text": [
      "70.5\n",
      "65.0\n",
      "Los clientes americanos suelen sacar, en promedio, préstamos con mayor cantidad de cuotas que los europeos: False\n"
     ]
    }
   ],
   "source": [
    "# <id_caja>, <monto>, <cuotas>\n",
    "prestamos = sc.textFile(\"datasets/Banco/Prestamos.txt\")\n",
    "prestamos = prestamos.map(lambda line: line.split(\"\\t\"))\n",
    "\n",
    "# <id_caja>, <cuotas>\n",
    "p = prestamos.map(lambda t: (t[0],t[1]))\n",
    "# sumo todas las cuotas para cada caja\n",
    "prestamos_sum = p.reduceByKey(lambda t1, t2: (int(t1) + int(t2)))\n",
    "\n",
    "# <id_caja>, <id_cliente>, <monto>\n",
    "# <id_cliente>, <id_caja>\n",
    "c = cajas.map(lambda t: (t[1], t[0]))\n",
    "\n",
    "#saco nombre del cliente de la tupla y pongo como clave el id de la caja?\n",
    "cajas_americanas = americanos.join(c).map(lambda t: (t[1][1],t[0]))\n",
    "cajas_europeas = europeos.join(c).map(lambda t: (t[1][1],t[0]))\n",
    "\n",
    "prestamos_americanos = cajas_americanas.join(prestamos_sum).map(lambda t: (t[1][1]))\n",
    "cuotaspromedio_americanos = prestamos_americanos.reduce(lambda t1, t2: (int(t1) + int(t2)) / 2 )\n",
    "\n",
    "prestamos_europeos = cajas_europeas.join(prestamos_sum).map(lambda t: (t[1][1]))\n",
    "cuotaspromedio_europeos = prestamos_europeos.reduce(lambda t1, t2: (int(t1) + int(t2)) / 2 )\n",
    "\n",
    "print(cuotaspromedio_europeos)\n",
    "print(cuotaspromedio_americanos)\n",
    "print(\"Los clientes americanos suelen sacar, en promedio, préstamos con mayor cantidad de cuotas que los europeos: \" + str(cuotaspromedio_americanos > cuotaspromedio_europeos))"
   ]
  }
 ],
 "metadata": {
  "kernelspec": {
   "display_name": "Python 3",
   "language": "python",
   "name": "python3"
  },
  "language_info": {
   "codemirror_mode": {
    "name": "ipython",
    "version": 3
   },
   "file_extension": ".py",
   "mimetype": "text/x-python",
   "name": "python",
   "nbconvert_exporter": "python",
   "pygments_lexer": "ipython3",
   "version": "3.8.6"
  }
 },
 "nbformat": 4,
 "nbformat_minor": 4
}
