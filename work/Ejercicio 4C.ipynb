{
 "cells": [
  {
   "cell_type": "markdown",
   "metadata": {},
   "source": [
    "# Práctica 4\n",
    "\n",
    "Dado el dataset Genealogía el cual está formado por: \n",
    "\n",
    "`<nombre_individuo, dni_individuo, dni_mamá>`\n",
    "\n",
    "### c) El nombre de la “abuela” que tiene más descendientes"
   ]
  },
  {
   "cell_type": "code",
   "execution_count": 1,
   "metadata": {},
   "outputs": [],
   "source": [
    "from pyspark import SparkContext\n",
    "from pyspark.sql import SQLContext, Row\n",
    "from pyspark.sql.functions import col\n",
    "import time\n",
    "\n",
    "sc = SparkContext(\"local\", \"My program\")\n",
    "sqlContext = SQLContext(sc)"
   ]
  },
  {
   "cell_type": "code",
   "execution_count": 2,
   "metadata": {},
   "outputs": [],
   "source": [
    "genealogia = sc.textFile(\"datasets/genealogia.txt\")\n",
    "genealogia = genealogia.map(lambda t : t.split(\"\\t\"))\n",
    "\n",
    "genealogia = genealogia.map(lambda t: \n",
    "                               Row(\n",
    "                                   nombre_individuo = str(t[0]),\n",
    "                                   dni_individuo = int(t[1]),\n",
    "                                   dni_mama = int(t[2]) if t[2] != 'None' else None \n",
    "                               )\n",
    "                           )\n",
    "\n",
    "genealogiaDF = sqlContext.createDataFrame(genealogia)\n",
    "genealogiaDF.registerTempTable(\"Genealogia\")"
   ]
  },
  {
   "cell_type": "code",
   "execution_count": 3,
   "metadata": {},
   "outputs": [
    {
     "name": "stdout",
     "output_type": "stream",
     "text": [
      "La abuela que tiene mas descendientes es Gavgaial con 243\n"
     ]
    }
   ],
   "source": [
    "def getAbuelas():\n",
    "    query = f\"\"\"\n",
    "    SELECT g.dni_individuo as dni_0, g.nombre_individuo as nombre\n",
    "    FROM Genealogia g\n",
    "    WHERE g.dni_mama is null\"\"\"\n",
    "    result = sqlContext.sql(query)\n",
    "    return result\n",
    "\n",
    "def getHijos(tmp, i):\n",
    "    tmp.registerTempTable(\"tmp\")\n",
    "    query = f\"\"\"\n",
    "    SELECT tmp.*, g.dni_individuo as dni_{i + 1}\n",
    "    FROM tmp\n",
    "    INNER JOIN Genealogia g ON g.dni_mama = tmp.dni_{i}\"\"\"\n",
    "    result = sqlContext.sql(query)\n",
    "    count = result.count()\n",
    "    if (count == 0):\n",
    "        return tmp, True\n",
    "    else:\n",
    "        return result, False\n",
    "\n",
    "a = getAbuelas()\n",
    "\n",
    "i = 0\n",
    "while True:\n",
    "    a, fin = getHijos(a, i)\n",
    "    i += 1\n",
    "    if (fin):\n",
    "        break\n",
    "\n",
    "\n",
    "abuela = a.groupBy(\"dni_0\",\"nombre\").count().orderBy(\"count\", ascending=False).first()\n",
    "\n",
    "print(\"La abuela que tiene mas descendientes es \" + abuela[1] + \" con \" + str(abuela[2]))\n"
   ]
  }
 ],
 "metadata": {
  "kernelspec": {
   "display_name": "Python 3",
   "language": "python",
   "name": "python3"
  },
  "language_info": {
   "codemirror_mode": {
    "name": "ipython",
    "version": 3
   },
   "file_extension": ".py",
   "mimetype": "text/x-python",
   "name": "python",
   "nbconvert_exporter": "python",
   "pygments_lexer": "ipython3",
   "version": "3.8.6"
  }
 },
 "nbformat": 4,
 "nbformat_minor": 4
}
