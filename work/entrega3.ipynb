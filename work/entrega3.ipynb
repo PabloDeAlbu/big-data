{
 "cells": [
  {
   "cell_type": "code",
   "execution_count": 3,
   "metadata": {},
   "outputs": [
    {
     "ename": "ValueError",
     "evalue": "Cannot run multiple SparkContexts at once; existing SparkContext(app=MyProgram, master=local) created by __init__ at <ipython-input-1-10be1c77ae47>:2 ",
     "output_type": "error",
     "traceback": [
      "\u001b[0;31m---------------------------------------------------------------------------\u001b[0m",
      "\u001b[0;31mValueError\u001b[0m                                Traceback (most recent call last)",
      "\u001b[0;32m<ipython-input-3-10be1c77ae47>\u001b[0m in \u001b[0;36m<module>\u001b[0;34m\u001b[0m\n\u001b[1;32m      1\u001b[0m \u001b[0;32mfrom\u001b[0m \u001b[0mpyspark\u001b[0m \u001b[0;32mimport\u001b[0m \u001b[0mSparkContext\u001b[0m\u001b[0;34m\u001b[0m\u001b[0;34m\u001b[0m\u001b[0m\n\u001b[0;32m----> 2\u001b[0;31m \u001b[0msc\u001b[0m \u001b[0;34m=\u001b[0m \u001b[0mSparkContext\u001b[0m\u001b[0;34m(\u001b[0m\u001b[0;34m\"local\"\u001b[0m\u001b[0;34m,\u001b[0m \u001b[0;34m\"MyProgram\"\u001b[0m\u001b[0;34m)\u001b[0m\u001b[0;34m\u001b[0m\u001b[0;34m\u001b[0m\u001b[0m\n\u001b[0m",
      "\u001b[0;32m/usr/local/spark/python/pyspark/context.py\u001b[0m in \u001b[0;36m__init__\u001b[0;34m(self, master, appName, sparkHome, pyFiles, environment, batchSize, serializer, conf, gateway, jsc, profiler_cls)\u001b[0m\n\u001b[1;32m    131\u001b[0m                 \" is not allowed as it is a security risk.\")\n\u001b[1;32m    132\u001b[0m \u001b[0;34m\u001b[0m\u001b[0m\n\u001b[0;32m--> 133\u001b[0;31m         \u001b[0mSparkContext\u001b[0m\u001b[0;34m.\u001b[0m\u001b[0m_ensure_initialized\u001b[0m\u001b[0;34m(\u001b[0m\u001b[0mself\u001b[0m\u001b[0;34m,\u001b[0m \u001b[0mgateway\u001b[0m\u001b[0;34m=\u001b[0m\u001b[0mgateway\u001b[0m\u001b[0;34m,\u001b[0m \u001b[0mconf\u001b[0m\u001b[0;34m=\u001b[0m\u001b[0mconf\u001b[0m\u001b[0;34m)\u001b[0m\u001b[0;34m\u001b[0m\u001b[0;34m\u001b[0m\u001b[0m\n\u001b[0m\u001b[1;32m    134\u001b[0m         \u001b[0;32mtry\u001b[0m\u001b[0;34m:\u001b[0m\u001b[0;34m\u001b[0m\u001b[0;34m\u001b[0m\u001b[0m\n\u001b[1;32m    135\u001b[0m             self._do_init(master, appName, sparkHome, pyFiles, environment, batchSize, serializer,\n",
      "\u001b[0;32m/usr/local/spark/python/pyspark/context.py\u001b[0m in \u001b[0;36m_ensure_initialized\u001b[0;34m(cls, instance, gateway, conf)\u001b[0m\n\u001b[1;32m    334\u001b[0m \u001b[0;34m\u001b[0m\u001b[0m\n\u001b[1;32m    335\u001b[0m                     \u001b[0;31m# Raise error if there is already a running Spark context\u001b[0m\u001b[0;34m\u001b[0m\u001b[0;34m\u001b[0m\u001b[0;34m\u001b[0m\u001b[0m\n\u001b[0;32m--> 336\u001b[0;31m                     raise ValueError(\n\u001b[0m\u001b[1;32m    337\u001b[0m                         \u001b[0;34m\"Cannot run multiple SparkContexts at once; \"\u001b[0m\u001b[0;34m\u001b[0m\u001b[0;34m\u001b[0m\u001b[0m\n\u001b[1;32m    338\u001b[0m                         \u001b[0;34m\"existing SparkContext(app=%s, master=%s)\"\u001b[0m\u001b[0;34m\u001b[0m\u001b[0;34m\u001b[0m\u001b[0m\n",
      "\u001b[0;31mValueError\u001b[0m: Cannot run multiple SparkContexts at once; existing SparkContext(app=MyProgram, master=local) created by __init__ at <ipython-input-1-10be1c77ae47>:2 "
     ]
    }
   ],
   "source": [
    "from pyspark import SparkContext\n",
    "sc = SparkContext(\"local\", \"MyProgram\")"
   ]
  },
  {
   "cell_type": "code",
   "execution_count": 8,
   "metadata": {},
   "outputs": [],
   "source": [
    "clientes = sc.textFile(\"datasets/Banco/Clientes.txt\")\n",
    "clientes = clientes.map(lambda line: line.split(\"\\t\"))\n",
    "#clientes = clientes.map(lambda t : (int(t[0]), t[1] + \" \" + t[2], int(t[3]), t[4], t[5]))"
   ]
  },
  {
   "cell_type": "code",
   "execution_count": 9,
   "metadata": {},
   "outputs": [
    {
     "name": "stdout",
     "output_type": "stream",
     "text": [
      "Total de clientes: 27087\n",
      "Cantidad de clientes americanos: 22662\n",
      "Cantidad de clientes europeos: 4425\n",
      "El banco tiene más clientes europeos que americanos: False\n"
     ]
    }
   ],
   "source": [
    "# El banco tiene más clientes europeos que americanos\n",
    "paises = clientes.map(lambda t: t[5]).distinct()\n",
    "\n",
    "total = clientes.count()\n",
    "americanos = clientes.filter(lambda t: t[5] in ['BRA', 'ARG', 'VEN', 'COL', 'BOL', 'ECU', 'URU', 'PAR', 'CHI', 'PER'])\n",
    "total_americanos = americanos.count()\n",
    "europeos = clientes.filter(lambda t: t[5] in ['ITA', 'ESP'])\n",
    "total_europeos = total - total_americanos\n",
    "\n",
    "print(\"Total de clientes: \" + str(total))\n",
    "print(\"Cantidad de clientes americanos: \"+ str(total_americanos)) \n",
    "print(\"Cantidad de clientes europeos: \"+ str(total_europeos)) \n",
    "\n",
    "print(\"El banco tiene más clientes europeos que americanos: \" + str(total_europeos > total_americanos))"
   ]
  },
  {
   "cell_type": "code",
   "execution_count": 10,
   "metadata": {},
   "outputs": [
    {
     "name": "stdout",
     "output_type": "stream",
     "text": [
      "Promedio de edad de los clientes europeos: 47.41717062334077\n",
      "Promedio de edad de los clientes americanos: 46.59238163019565\n",
      "El promedio de edad de los clientes americanos es menor que el de los europeos: True\n"
     ]
    }
   ],
   "source": [
    "# b) El promedio de edad de los clientes americanos es menor que el de los europeos\n",
    "from datetime import datetime\n",
    "\n",
    "a = americanos.map(lambda t: (datetime.now() - datetime.strptime(t[4], '%Y-%m-%d')).days // 365)\n",
    "\n",
    "e = europeos.map(lambda t: (datetime.now() - datetime.strptime(t[4], '%Y-%m-%d')).days // 365)\n",
    "\n",
    "a = a.reduce(lambda t1, t2: (t1 + t2)/2)\n",
    "e = e.reduce(lambda t1, t2: (t1 + t2)/2)\n",
    "\n",
    "print(\"Promedio de edad de los clientes europeos: \"+ str(e))\n",
    "print(\"Promedio de edad de los clientes americanos: \"+ str(a)) \n",
    "\n",
    "print(\"El promedio de edad de los clientes americanos es menor que el de los europeos: \" + str(a < e))"
   ]
  },
  {
   "cell_type": "code",
   "execution_count": 12,
   "metadata": {},
   "outputs": [
    {
     "name": "stdout",
     "output_type": "stream",
     "text": [
      "Los americanos deben más plata que los europeos: True\n"
     ]
    }
   ],
   "source": [
    "#c) Los americanos deben más plata que los europeos (un cliente debe plata si la suma de montos de todas sus cajas de ahorro es negativa)\n",
    "\n",
    "# <id_caja>, <id_cliente>, <monto>\n",
    "cajas = sc.textFile(\"datasets/Banco/CajasDeAhorro.txt\")\n",
    "cajas = cajas.map(lambda line: line.split(\"\\t\"))\n",
    "c = cajas.map(lambda t: (t[1], t[2]))\n",
    "\n",
    "# <id_cliente>, <monto>\n",
    "c = c.reduceByKey(lambda t1, t2: (float(t1) + float(t2)))\n",
    "\n",
    "#def func(t1,t2):\n",
    "#americanos_k = americanos.map(lambda t1: (t1[0],(t1[1:])))\n",
    "\n",
    "montos_americanos = americanos.join(c)\n",
    "montos_americanos = montos_americanos.map(lambda t: (t[1][1]))\n",
    "\n",
    "montos_europeos = europeos.join(c)\n",
    "montos_europeos = montos_europeos.map(lambda t: (t[1][1]) )\n",
    "\n",
    "montos_americanos = montos_americanos.reduce(lambda t1, t2: (float(t1) + float(t2)))\n",
    "montos_europeos = montos_europeos.reduce(lambda t1, t2: (float(t1) + float(t2))) \n",
    "\n",
    "print(\"Los americanos deben más plata que los europeos: \" + str(montos_americanos < montos_europeos))"
   ]
  },
  {
   "cell_type": "code",
   "execution_count": 17,
   "metadata": {},
   "outputs": [
    {
     "name": "stdout",
     "output_type": "stream",
     "text": [
      "('1', '1')\n",
      "['1', 'juan', 'topo', '6', '1991-05-20', 'ARG']\n",
      "('1', '1')\n"
     ]
    }
   ],
   "source": [
    "# d) Los clientes americanos suelen sacar, en promedio, préstamos con mayor cantidad de cuotas que los europeos\n",
    "\n",
    "# <id_caja>, <monto>, <cuotas>\n",
    "prestamos = sc.textFile(\"datasets/Banco/Prestamos.txt\")\n",
    "prestamos = prestamos.map(lambda line: line.split(\"\\t\"))\n",
    "\n",
    "# <id_caja>, <cuotas>\n",
    "p = prestamos.map(lambda t: (t[0],t[2]))\n",
    "prestamos_sum = p.reduceByKey(lambda t1, t2: (float(t1[1]) + float(t2[1])))\n",
    "\n",
    "#<id_cliente>, <Nombre>, <Apellido>, <DNI>, <Nacionalidad>, <FechaNacimiento>\n",
    "#c = clientes.map(lambda t: t)\n",
    "\n",
    "# <id_caja>, <id_cliente>, <monto>\n",
    "# <id_cliente>, <id_caja>\n",
    "c = cajas.map(lambda t: (t[1], t[0]))\n",
    "\n",
    "# <id_cliente>, <id_caja>\n",
    "americanos_caja = americanos.join(c)\n",
    "\n",
    "# <id_caja>,<id_cliente>\n",
    "americanos_caja = americanos_caja.map(lambda t: (t[1][1],t[0]))\n",
    "aux = americanos_caja.join(prestamos_sum)\n",
    "\n",
    "print(c.first())\n",
    "print(americanos.first())\n",
    "print(americanos_caja.first())\n",
    "\n",
    "#americanos_caja = americanos_caja.map(lambda t: t[0])\n"
   ]
  },
  {
   "cell_type": "code",
   "execution_count": 15,
   "metadata": {},
   "outputs": [
    {
     "name": "stdout",
     "output_type": "stream",
     "text": [
      "('1', '90')\n",
      "['1', 'juan', 'topo', '6', '1991-05-20', 'ARG']\n",
      "[('1', '1'), ('1', '1'), ('760246', '39670')]\n",
      "('1', '90')\n",
      "('836426', ('46037', '8192.30250436454'))\n"
     ]
    }
   ],
   "source": [
    "print(prestamos_sum.first())\n",
    "print(americanos.first())\n",
    "print(americanos_caja.take(3))\n",
    "print(p.first())\n",
    "print(aux.first())"
   ]
  }
 ],
 "metadata": {
  "kernelspec": {
   "display_name": "Python 3",
   "language": "python",
   "name": "python3"
  },
  "language_info": {
   "codemirror_mode": {
    "name": "ipython",
    "version": 3
   },
   "file_extension": ".py",
   "mimetype": "text/x-python",
   "name": "python",
   "nbconvert_exporter": "python",
   "pygments_lexer": "ipython3",
   "version": "3.8.6"
  }
 },
 "nbformat": 4,
 "nbformat_minor": 4
}
