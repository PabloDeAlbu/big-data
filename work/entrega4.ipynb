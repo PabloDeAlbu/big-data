{
 "cells": [
  {
   "cell_type": "markdown",
   "metadata": {},
   "source": [
    "7) Dado el dataset Genealogía el cual está formado por: \n",
    "\n",
    "<nombre_individuo, dni_individuo, dni_mamá>\n",
    "\n",
    "realice distintas funciones que:\n",
    "\n",
    "\n",
    "\n",
    "c) El nombre de la “abuela” que tiene más descendientes\n",
    "\n",
    "d) Los nombres de los hermanos de la familia más numerosa (la cantidad de integrantes de una familia se calcula como la cantidad de hermanos más la mamá). Podría existir más de una familia más numerosa, en cuyo caso se deben imprimir todos los nombres de los hermanos integrantes de cada familia"
   ]
  },
  {
   "cell_type": "code",
   "execution_count": 4,
   "metadata": {},
   "outputs": [
    {
     "ename": "ValueError",
     "evalue": "Cannot run multiple SparkContexts at once; existing SparkContext(app=My program, master=local) created by __init__ at <ipython-input-1-0b9e27f0d652>:5 ",
     "output_type": "error",
     "traceback": [
      "\u001b[0;31m---------------------------------------------------------------------------\u001b[0m",
      "\u001b[0;31mValueError\u001b[0m                                Traceback (most recent call last)",
      "\u001b[0;32m<ipython-input-4-0b9e27f0d652>\u001b[0m in \u001b[0;36m<module>\u001b[0;34m\u001b[0m\n\u001b[1;32m      3\u001b[0m \u001b[0;32mfrom\u001b[0m \u001b[0mpyspark\u001b[0m\u001b[0;34m.\u001b[0m\u001b[0msql\u001b[0m\u001b[0;34m.\u001b[0m\u001b[0mfunctions\u001b[0m \u001b[0;32mimport\u001b[0m \u001b[0mcol\u001b[0m\u001b[0;34m\u001b[0m\u001b[0;34m\u001b[0m\u001b[0m\n\u001b[1;32m      4\u001b[0m \u001b[0;34m\u001b[0m\u001b[0m\n\u001b[0;32m----> 5\u001b[0;31m \u001b[0msc\u001b[0m \u001b[0;34m=\u001b[0m \u001b[0mSparkContext\u001b[0m\u001b[0;34m(\u001b[0m\u001b[0;34m\"local\"\u001b[0m\u001b[0;34m,\u001b[0m \u001b[0;34m\"My program\"\u001b[0m\u001b[0;34m)\u001b[0m\u001b[0;34m\u001b[0m\u001b[0;34m\u001b[0m\u001b[0m\n\u001b[0m\u001b[1;32m      6\u001b[0m \u001b[0msqlContext\u001b[0m \u001b[0;34m=\u001b[0m \u001b[0mSQLContext\u001b[0m\u001b[0;34m(\u001b[0m\u001b[0msc\u001b[0m\u001b[0;34m)\u001b[0m\u001b[0;34m\u001b[0m\u001b[0;34m\u001b[0m\u001b[0m\n",
      "\u001b[0;32m/usr/local/spark/python/pyspark/context.py\u001b[0m in \u001b[0;36m__init__\u001b[0;34m(self, master, appName, sparkHome, pyFiles, environment, batchSize, serializer, conf, gateway, jsc, profiler_cls)\u001b[0m\n\u001b[1;32m    131\u001b[0m                 \" is not allowed as it is a security risk.\")\n\u001b[1;32m    132\u001b[0m \u001b[0;34m\u001b[0m\u001b[0m\n\u001b[0;32m--> 133\u001b[0;31m         \u001b[0mSparkContext\u001b[0m\u001b[0;34m.\u001b[0m\u001b[0m_ensure_initialized\u001b[0m\u001b[0;34m(\u001b[0m\u001b[0mself\u001b[0m\u001b[0;34m,\u001b[0m \u001b[0mgateway\u001b[0m\u001b[0;34m=\u001b[0m\u001b[0mgateway\u001b[0m\u001b[0;34m,\u001b[0m \u001b[0mconf\u001b[0m\u001b[0;34m=\u001b[0m\u001b[0mconf\u001b[0m\u001b[0;34m)\u001b[0m\u001b[0;34m\u001b[0m\u001b[0;34m\u001b[0m\u001b[0m\n\u001b[0m\u001b[1;32m    134\u001b[0m         \u001b[0;32mtry\u001b[0m\u001b[0;34m:\u001b[0m\u001b[0;34m\u001b[0m\u001b[0;34m\u001b[0m\u001b[0m\n\u001b[1;32m    135\u001b[0m             self._do_init(master, appName, sparkHome, pyFiles, environment, batchSize, serializer,\n",
      "\u001b[0;32m/usr/local/spark/python/pyspark/context.py\u001b[0m in \u001b[0;36m_ensure_initialized\u001b[0;34m(cls, instance, gateway, conf)\u001b[0m\n\u001b[1;32m    334\u001b[0m \u001b[0;34m\u001b[0m\u001b[0m\n\u001b[1;32m    335\u001b[0m                     \u001b[0;31m# Raise error if there is already a running Spark context\u001b[0m\u001b[0;34m\u001b[0m\u001b[0;34m\u001b[0m\u001b[0;34m\u001b[0m\u001b[0m\n\u001b[0;32m--> 336\u001b[0;31m                     raise ValueError(\n\u001b[0m\u001b[1;32m    337\u001b[0m                         \u001b[0;34m\"Cannot run multiple SparkContexts at once; \"\u001b[0m\u001b[0;34m\u001b[0m\u001b[0;34m\u001b[0m\u001b[0m\n\u001b[1;32m    338\u001b[0m                         \u001b[0;34m\"existing SparkContext(app=%s, master=%s)\"\u001b[0m\u001b[0;34m\u001b[0m\u001b[0;34m\u001b[0m\u001b[0m\n",
      "\u001b[0;31mValueError\u001b[0m: Cannot run multiple SparkContexts at once; existing SparkContext(app=My program, master=local) created by __init__ at <ipython-input-1-0b9e27f0d652>:5 "
     ]
    }
   ],
   "source": [
    "from pyspark import SparkContext\n",
    "from pyspark.sql import SQLContext, Row\n",
    "from pyspark.sql.functions import col\n",
    "\n",
    "sc = SparkContext(\"local\", \"My program\")\n",
    "sqlContext = SQLContext(sc)"
   ]
  },
  {
   "cell_type": "code",
   "execution_count": 5,
   "metadata": {},
   "outputs": [],
   "source": [
    "genealogia = sc.textFile(\"datasets/genealogia.txt\")\n",
    "genealogia = genealogia.map(lambda t : t.split(\"\\t\"))\n",
    "\n",
    "genealogia = genealogia.map(lambda t: \n",
    "                               Row(\n",
    "                                   nombre_individuo = str(t[0]),\n",
    "                                   dni_individuo = int(t[1]),\n",
    "                                   dni_mama = int(t[2]) if t[2] != 'None' else None \n",
    "                               )\n",
    "                           )\n",
    "\n",
    "genealogiaDF = sqlContext.createDataFrame(genealogia)\n",
    "genealogiaDF.registerTempTable(\"Genealogia\")"
   ]
  },
  {
   "cell_type": "markdown",
   "metadata": {},
   "source": [
    "### a) Dado los dni de dos individuos indicar si son primos (dos individuos son primos si tienen la misma abuela)."
   ]
  },
  {
   "cell_type": "code",
   "execution_count": 6,
   "metadata": {},
   "outputs": [
    {
     "name": "stdout",
     "output_type": "stream",
     "text": [
      "646 es primo de 223: True\n"
     ]
    }
   ],
   "source": [
    "dni1 = 646\n",
    "dni2 = 223\n",
    "\n",
    "def getAbuela(dni):\n",
    "    query = f\"\"\"\n",
    "    SELECT g.nombre_individuo, g.dni_individuo, abuela.nombre_individuo as nombre_abuela, abuela.dni_individuo as dni_abuela\n",
    "    FROM Genealogia g\n",
    "    INNER JOIN Genealogia madre ON g.dni_mama = madre.dni_individuo\n",
    "    INNER JOIN Genealogia abuela ON madre.dni_mama = abuela.dni_individuo\n",
    "    WHERE g.dni_individuo = '{ dni }';\"\"\"\n",
    "    result = sqlContext.sql(query)\n",
    "    return(result.select('dni_abuela').first()[0])\n",
    "\n",
    "son_primos = getAbuela(dni1) == getAbuela(dni2)\n",
    "print(f\"{dni1} es primo de {dni2}: \" + str(son_primos))"
   ]
  },
  {
   "cell_type": "markdown",
   "metadata": {},
   "source": [
    "### b) Dado los dni de dos individuos i1 y i2 indicar si i1 es ancestro de i2."
   ]
  },
  {
   "cell_type": "code",
   "execution_count": 7,
   "metadata": {},
   "outputs": [
    {
     "name": "stdout",
     "output_type": "stream",
     "text": [
      "2184 es ancestro de 646: True\n"
     ]
    }
   ],
   "source": [
    "query = f\"\"\"\n",
    "SELECT g.nombre_individuo, g.dni_individuo, abuela.nombre_individuo as nombre_abuela, abuela.dni_individuo as dni_abuela\n",
    "FROM Genealogia g\n",
    "INNER JOIN Genealogia madre ON g.dni_mama = madre.dni_individuo\n",
    "INNER JOIN Genealogia abuela ON madre.dni_mama = abuela.dni_individuo\"\"\"\n",
    "\n",
    "dni1 = 2184\n",
    "dni2 = 646\n",
    "\n",
    "def getMadre(id):\n",
    "    query = f\"\"\"\n",
    "    SELECT g.dni_mama\n",
    "    FROM Genealogia g\n",
    "    WHERE g.dni_individuo = '{ id }';\"\"\"\n",
    "    result1 = sqlContext.sql(query)\n",
    "    return result1.first()[0]\n",
    "\n",
    "\n",
    "def getAncestros(id):\n",
    "    ancestros = []\n",
    "    madre = id\n",
    "    while madre is not None:\n",
    "        madre = getMadre(madre)\n",
    "        if madre is not None:\n",
    "            ancestros.append(madre)\n",
    "    return ancestros\n",
    "\n",
    "\n",
    "ancestros = getAncestros(dni2)\n",
    "print(f\"{dni1} es ancestro de {dni2}: \" + str(dni1 in ancestros))"
   ]
  },
  {
   "cell_type": "markdown",
   "metadata": {},
   "source": [
    "### c) El nombre de la “abuela” que tiene más descendientes"
   ]
  },
  {
   "cell_type": "code",
   "execution_count": 9,
   "metadata": {},
   "outputs": [
    {
     "name": "stdout",
     "output_type": "stream",
     "text": [
      "9\n",
      "+----------------+-------------+-----+\n",
      "|nombre_individuo|dni_individuo|count|\n",
      "+----------------+-------------+-----+\n",
      "|         Czvqfzh|         1046|    9|\n",
      "|          Tsdzfx|          960|    9|\n",
      "|        Darpfeqd|         2785|    9|\n",
      "|         Symqeqf|         4460|    9|\n",
      "|          Khqrpf|          572|    9|\n",
      "+----------------+-------------+-----+\n",
      "\n"
     ]
    }
   ],
   "source": [
    "def getNietos():\n",
    "    query = f\"\"\"\n",
    "    SELECT abuela.nombre_individuo, abuela.dni_individuo, COUNT(*) as count\n",
    "    FROM Genealogia g\n",
    "    INNER JOIN Genealogia madre ON g.dni_mama = madre.dni_individuo \n",
    "    INNER JOIN Genealogia abuela ON abuela.dni_individuo = madre.dni_mama\n",
    "    GROUP BY abuela.nombre_individuo, abuela.dni_individuo\n",
    "    ORDER BY count DESC;\"\"\"\n",
    "    result = sqlContext.sql(query)\n",
    "    max = result.first()[2]\n",
    "    print(max)\n",
    "    result = result.filter(col(\"count\") == max)\n",
    "    return result.show()\n",
    "\n",
    "getNietos()"
   ]
  },
  {
   "cell_type": "markdown",
   "metadata": {},
   "source": [
    "### d) Los nombres de los hermanos de la familia más numerosa (la cantidad de integrantes de una familia se calcula como la cantidad de hermanos más la mamá). \n",
    "Podría existir más de una familia más numerosa, en cuyo caso se deben imprimir todos los nombres de los hermanos integrantes de cada familia"
   ]
  },
  {
   "cell_type": "code",
   "execution_count": 10,
   "metadata": {},
   "outputs": [
    {
     "name": "stdout",
     "output_type": "stream",
     "text": [
      "+----------------+--------+\n",
      "|nombre_individuo|dni_mama|\n",
      "+----------------+--------+\n",
      "|            pepo|     474|\n",
      "|        Darpfeqd|     474|\n",
      "|         Sqvbmee|     474|\n",
      "|           Dybre|     474|\n",
      "+----------------+--------+\n",
      "\n",
      "None\n"
     ]
    }
   ],
   "source": [
    "def getMadres():\n",
    "    query = f\"\"\"\n",
    "    SELECT g.dni_mama, COUNT(*) as count\n",
    "    FROM Genealogia g\n",
    "    WHERE g.dni_mama is not null\n",
    "    GROUP BY g.dni_mama \n",
    "    ORDER BY count DESC\"\"\"\n",
    "    result = sqlContext.sql(query)\n",
    "    return result\n",
    "\n",
    "madres = getMadres()\n",
    "max = madres.first()[1]\n",
    "madres = madres.filter(col(\"count\") == max)\n",
    "\n",
    "nombres = genealogiaDF.join(madres, madres.dni_mama == genealogiaDF.dni_mama).select(\"nombre_individuo\", \"g.dni_mama\")\n",
    "print(nombres.show())"
   ]
  }
 ],
 "metadata": {
  "kernelspec": {
   "display_name": "Python 3",
   "language": "python",
   "name": "python3"
  },
  "language_info": {
   "codemirror_mode": {
    "name": "ipython",
    "version": 3
   },
   "file_extension": ".py",
   "mimetype": "text/x-python",
   "name": "python",
   "nbconvert_exporter": "python",
   "pygments_lexer": "ipython3",
   "version": "3.8.6"
  }
 },
 "nbformat": 4,
 "nbformat_minor": 4
}
